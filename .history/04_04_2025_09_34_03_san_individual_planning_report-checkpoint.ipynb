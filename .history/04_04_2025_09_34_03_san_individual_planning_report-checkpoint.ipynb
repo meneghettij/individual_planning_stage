{
 "cells": [
  {
   "attachments": {},
   "cell_type": "markdown",
   "id": "c0c9b6db-8401-495c-afbd-5f39a06db9af",
   "metadata": {},
   "source": [
    "**Name**: San Sit, Hoyun Jung, Natalie Krahn, Juliana Meneghetti\n",
    "<h3> Introduction </h3>\n",
    "\n",
    "<h4> (1) Background Information </h4>\n",
    "\n",
    "In recent years, Minecraft has remained one of the most popular video games, attracting millions of players worldwide. As a sandbox game that allows users to explore, build, and interact in a virtual world, Minecraft appeals to a wide demographic, from casual beginners to dedicated professionals.\n",
    "\n",
    "This project is part of an ongoing research based on the dataset led by **Frank Wood's Computer Science research group at UBC**, which is studying how people play video games. Their team has set up a dedicated Minecraft server, where players' actions are recorded as they navigate through the world. \n",
    "\n",
    "By applying a K-Nearest Neighbors (KNN) classification model, we analyze the relationship between a player's engagement metrics (age and played hours) and their likelihood of subscribing. The dataset is preprocessed to convert categorical variables into factors, scale numerical values, and split into training and testing subsets. The model is then fine-tuned using cross-validation to determine the optimal number of neighbors (K) before making predictions on new data.\n",
    "\n",
    "This study provides insights into the characteristics of subscribed players and explores whether playtime and age can serve as reliable indicators of subscription likelihood.\n",
    "\n",
    "\n",
    "<h4> (2) Questions </h4>\n",
    "\n",
    "**My broad question** - Question 1: Player characteristics and behaviors most predictive of subscribing to a game-related newsletter. <br>\n",
    "**Specific** - \"Can player experience level, total playtime, and age predict whether a player will subscribe to a game-related newsletter?\"\n",
    "\n",
    "\n",
    "<h4> (3) Data Description </h4>\n",
    "\n",
    "Our given data is recording players' actions within Minecraft (Woods). Our project will analyze the dataset players and their characteristics.\n",
    "\n",
    "In *players*, there are 196 observations with 7 variables:\n",
    "- `experience` (character): the level of expertise the player has within Minecraft separated (best to worst): Beginner, Regular, Amateur, Pro, and Veteran\n",
    "- `subscribed`(boolean): whether the player is subscribed to newsletter (TRUE) or not (FALSE)\n",
    "- `hashedEmail`(character): player's encrypted and anonymized email (used for identification)\n",
    "- `played_hours`(double): the amount of hours played by player\n",
    "- `name`(character): name of the player\n",
    "- `gender` (character): player's gender\n",
    "- `Age`(double): player's age <br>"
   ]
  },
  {
   "cell_type": "code",
   "execution_count": null,
   "id": "e7879e83-96e5-4c77-a603-7496959aa0a3",
   "metadata": {},
   "outputs": [],
   "source": [
    "library(tidyverse)\n",
    "library(scales)"
   ]
  },
  {
   "cell_type": "code",
   "execution_count": null,
   "id": "5a6148c3-53b4-4a90-999f-213d5e072763",
   "metadata": {},
   "outputs": [],
   "source": [
    "# Importing players.csv and sessions.csv from my github list I uploaded to\n",
    "# NOTE: sessions is imported solely for demonstration of the players and session data frames being able to be loaded into R\n",
    "players <- read_csv(\"https://raw.githubusercontent.com/SansIt/ds-project/refs/heads/main/players.csv\")\n",
    "sessions <- read_csv(\"https://raw.githubusercontent.com/SansIt/ds-project/refs/heads/main/sessions.csv\")\n",
    "\n",
    "# Only players are needed for my analysis\n",
    "players"
   ]
  },
  {
   "attachments": {},
   "cell_type": "markdown",
   "id": "9b76f82c-c4a2-4911-bb00-7e9b843d5120",
   "metadata": {},
   "source": [
    "The data seem tidy: each row - single observation, each column - single variable, and each value - single cell. \n",
    "Possible datatype improvements:"
   ]
  },
  {
   "cell_type": "code",
   "execution_count": null,
   "id": "9c1ede36-f28d-4522-8530-ee80867f8295",
   "metadata": {},
   "outputs": [],
   "source": [
    "# Experience to factor (for comparisons later)\n",
    "# Age to integer (as right now it is in double and a decimal age does not really help or make a difference in demographics)\n",
    "# Let us also fix the capitalization of age as it is the only column/ variable whose first term is capitalized\n",
    "players_fixed <- players |>\n",
    "                mutate(experience = as_factor(experience)) |>\n",
    "                mutate(age = as.integer(Age)) |>\n",
    "                select(-Age)\n"
   ]
  },
  {
   "cell_type": "code",
   "execution_count": null,
   "id": "1fbf060e-cab4-47e5-932f-853ad0bd3811",
   "metadata": {},
   "outputs": [],
   "source": [
    "# To compute the mean of each quantitative variable, there are only 2 (hours played and age):\n",
    "players_mean <- players_fixed |>\n",
    "            summarize(mean_age = mean(age, na.rm = TRUE), mean_played_hours = mean(played_hours)) \n",
    "players_mean"
   ]
  },
  {
   "cell_type": "markdown",
   "id": "b9fcf52f-f943-4178-a026-5f7208ba2cb1",
   "metadata": {},
   "source": [
    "For visualization, I choose the main target variable as boolean `subscribed` versus:\n",
    "- `age` and `played_hours` as histograms (distribution of quantitative)\n",
    "- `experience` level as a bar chart (comparison of category amounts)"
   ]
  },
  {
   "cell_type": "code",
   "execution_count": null,
   "id": "6129b102-9fc5-4c6b-8be3-491d79155194",
   "metadata": {},
   "outputs": [],
   "source": [
    "options(repr.plot.width = 10, repr.plot.height = 7)\n",
    "# For the quantitative variables\n",
    "# Ensuring they are colour-blind friendly\n",
    "# Histograms are the best visualization in distributing quantitative data and filling by subscribed or not\n",
    "age_plot <- players_fixed |>\n",
    "                    ggplot(aes (x = age, fill = subscribe)) +\n",
    "                    geom_histogram(bins = 11) +\n",
    "                    labs(x = \"Age of Player\", y = \"Count of Players Aged\", fill = \"Subscribed?\") +\n",
    "                    ggtitle(\"Subscribed Players by Age Distribution\") +\n",
    "                    theme(text = element_text(size = 15)) +\n",
    "                    scale_fill_brewer(palette = \"Oranges\")\n",
    "\n",
    "# Scaled x-axis as one group of played hours heavily skewed the bar graph till the others were not visible\n",
    "hours_plot <- players_fixed |>\n",
    "                    ggplot(aes (x = played_hours, fill = subscribe)) +\n",
    "                    geom_histogram(binwidth = 0.1) +\n",
    "                    labs(x = \"Log-Scaled Number of Hours Played (hr)\", y = \"Number of People Playing\", fill = \"Subscribed?\") +\n",
    "                    ggtitle(\"Subscribed Players by Number of Hours Distribution\") +\n",
    "                    scale_x_log10(labels = label_comma()) + \n",
    "                    theme(text = element_text(size = 15)) +\n",
    "                    scale_fill_brewer(palette = \"Oranges\")\n",
    "\n",
    "age_plot\n",
    "hours_plot\n",
    "\n",
    "# For categorical amounts, make a new summarized count for true and false\n",
    "# Bar graphs are most effective for comparing amounts (in this case, by Experience)\n",
    "# We use position = \"fill\" because we are interested in the proportion of how much each category of experience subscribes\n",
    "players_experience <- players_fixed |>\n",
    "                group_by(subscribe, experience) |>\n",
    "                summarize(count = n())\n",
    "players_experience_plot <- players_experience |>\n",
    "                    ggplot(aes (x = count, y = fct_reorder(experience, count), fill = subscribe)) +\n",
    "                    geom_bar(stat = \"identity\", position = \"fill\") +\n",
    "                    labs(x = \"Proportion of Players (0-1)\", y = \"Category of Experience\", fill = \"Subscribed?\") +\n",
    "                    ggtitle(\"Unsubscribed and Subscribed Players Proportions by Experience\") +\n",
    "                    theme(text = element_text(size = 15)) + \n",
    "                    scale_fill_brewer(palette = \"Oranges\")\n",
    "\n",
    "players_experience_plot \n"
   ]
  },
  {
   "cell_type": "markdown",
   "id": "742021fb-8f4e-499e-af91-4c5244c289a5",
   "metadata": {},
   "source": [
    "#### Graph Analysis:\n",
    "- `age`: Younger players are more likely to subscribe, with most subscribers in their late teens to early twenties (Elders do not).\n",
    "- `played_hours`: Subscription status varies across playtime levels but is guaranteed for moderate-to-high playtime.\n",
    "- `Experience`: Experience shows a trend where *Regular* and *Beginner* players subscribe notably most. <br>\n",
    "`Age` and `Experience` seem strong predictors, while `played_hours` is decent but requires further analysis/ standardization.\n"
   ]
  },
  {
   "cell_type": "markdown",
   "id": "6f870da4-6e24-4aeb-8f40-77fb2e77767e",
   "metadata": {},
   "source": [
    "### (4) Methods and Plans\n",
    "I propose using **k-Nearest Neighbors (k-NN)** classification because it's the most intuitive for categorical prediction problems and identifying patterns using both numerical and categorical data.\n",
    "\n",
    "**My predictor variables**:\n",
    "- `experience` (Categorical)\n",
    "- `age` (Quantitative)\n",
    "- `played_hours` (Quantitative)\n",
    "\n",
    "#### Assumptions Required\n",
    "- Since k-NN relies on distance, we assume our dataset is unstandardized and have to normalize numerical quantities.\n",
    "- Dataset should not skew toward a majority range, but early data suggests overrepresentation in specific `age` and `played_hours` ranges.\n",
    "\n",
    "#### Weaknesses\n",
    "- The `age` variable is slightly imbalanced, with a dominant 0-25 range, which may bias predictions based on the range's trends.\n",
    "- `played_hours` has the same problem with a range 0-10 hours played.\n",
    "- Too many predictor variables can make k-NN less effective if some chosen predictors are less reliable.\n",
    "\n",
    "#### Processing, Comparing, Selecting\n",
    "- Preprocessing includes standardization and handling missing values (NA).\n",
    "- To ensure reliable model fitting,:\n",
    "  1. Split the data into training and testing, with an 80-20% split, stratifying by `subscribe`.\n",
    "  2. Use 10-fold cross-validation to determine the best number of neighbours and train the model on both sets.\n",
    "  3. Evaluate our model on the testing data and collect metrics.\n",
    "\n",
    "Prioritizing **high precision** is the key, as the newsletter would benefit more from identifying which characteristics subscribe more correctly (for more effective marketing campaigns) rather than maximizing subscriber identification (recall) or general proportion of correctness (accuracy).\n"
   ]
  },
  {
   "cell_type": "code",
   "execution_count": null,
   "id": "1a66d70f-2624-4049-9c75-36e0f5f1267e",
   "metadata": {},
   "outputs": [],
   "source": [
    "library(tidymodels)"
   ]
  },
  {
   "cell_type": "code",
   "execution_count": null,
   "id": "d3f3187b-e896-49c9-841c-91e66c7b7307",
   "metadata": {},
   "outputs": [],
   "source": [
    "players_knn <- players_fixed |>\n",
    "               mutate(subscribe = as_factor(subscribe))\n",
    "\n",
    "players_split <- initial_split(players_knn, prop = 0.8, strata = subscribe)\n",
    "players_training <- training(players_split)\n",
    "players_testing <- testing(players_split)"
   ]
  },
  {
   "cell_type": "markdown",
   "id": "ca2a6037-3b86-4f04-970e-ad439eeb3784",
   "metadata": {},
   "source": [
    "After loading the dataset, we mutate the subscribe variable to a factor so we can treat “subscribe” as a categorical variable. Then we split the dataset into a training dataset (80% of the data) and a testing dataset (20% of the data) where the strata—variable used to do the sampling—is “subscribe”. "
   ]
  },
  {
   "cell_type": "code",
   "execution_count": null,
   "id": "d45ea418-198a-45a5-a417-43120734861d",
   "metadata": {},
   "outputs": [],
   "source": [
    "players_recipe <- recipe(subscribe ~ age + played_hours, data = players_training) |>\n",
    "                  step_scale(all_predictors()) |>\n",
    "                  step_center(all_predictors())\n",
    "\n",
    "knn_spec <- nearest_neighbor(weight_func = \"rectangular\", neighbors = tune()) |>\n",
    "            set_engine(\"kknn\") |>\n",
    "            set_mode(\"classification\")"
   ]
  },
  {
   "cell_type": "markdown",
   "id": "7fae3d5b-767f-4d4a-b6dd-5219e1d816ff",
   "metadata": {},
   "source": [
    "After this split, we create a recipe with the training dataset using subscribe as the predictor variable and age + played hours as the explanatory variables. We make sure we scale all predictors so that no variable has more effect on the outcome. Next, we use the K-NN model where weight_func = “rectangular” gives us equal weight for all neighbours, and we tune for the best number of neighbours. Then we specify we are using the kknn package and are performing a classification. "
   ]
  },
  {
   "cell_type": "code",
   "execution_count": null,
   "id": "e95f8a7d-cff0-4d66-916b-58448c7e1f74",
   "metadata": {},
   "outputs": [],
   "source": [
    "k_vals <- tibble(neighbors = seq(from = 1, to = 120, by = 1))\n",
    "\n",
    "players_vfold <- vfold_cv(players_training, v = 7, strata = subscribe)\n",
    "\n",
    "knn_results <- workflow() |>\n",
    "               add_model(knn_spec) |>\n",
    "               add_recipe(players_recipe) |>\n",
    "               tune_grid(resamples = players_vfold, grid = k_vals) |>\n",
    "               collect_metrics()\n",
    "best_k <- knn_accuracies |>\n",
    "        arrange(desc(mean)) |>\n",
    "        head(1) |>\n",
    "        pull(neighbors)\n",
    "best_k"
   ]
  },
  {
   "cell_type": "markdown",
   "id": "8101929f-cf1a-4425-920d-09bd497cbd62",
   "metadata": {},
   "source": [
    "Next we create a tibble with neighbours that range from 1 to 120 and increase by an increment of 1. We then want to perform a cross validation, where we have chosen 7-fold on the training dataset. Next we are building a workflow using the model and recipe we created above and tuning it using the 7-fold cross validation and k values in the tibble and finding the accuracy of this assessment.  Then, find the best k value by sorting the accuracies and pulling the best k based on its accuracy. This gives us a value of 22 as our best k-value. "
   ]
  },
  {
   "cell_type": "code",
   "execution_count": null,
   "id": "33e2ddb2-ba1d-4fa8-b56b-12936e2a82af",
   "metadata": {},
   "outputs": [],
   "source": [
    "knn_spec_best_k <- nearest_neighbor(weight_func = \"rectangular\", neighbors = 22) |>\n",
    "            set_engine(\"kknn\") |>\n",
    "            set_mode(\"classification\")\n",
    "\n",
    "knn_fit <- workflow() |>\n",
    "               add_model(knn_spec_best_k) |>\n",
    "               add_recipe(players_recipe) |>\n",
    "               fit(players_training)\n",
    "\n",
    "players_test_predictions <- predict(knn_fit, players_testing) |>\n",
    "  bind_cols(players_testing)\n",
    "\n",
    "accuracy <- players_test_predictions |>\n",
    "  metrics(truth = subscribe, estimate = .pred_class) |>\n",
    "  filter(.metric == \"accuracy\")\n",
    "\n",
    "\n",
    "players_test_predictions\n",
    "accuracy"
   ]
  },
  {
   "cell_type": "markdown",
   "id": "eb113432-5e27-4e92-8145-fb95b75fde4c",
   "metadata": {},
   "source": [
    "After, we do the same K-NN model, but this time with the neighbours = 22 (our best k-value) and create a workflow with this new nearest_neighbor spec with the best k (still using training dataset). Next, we can predict the classes for each value in the testing dataset, producing a tibble with .pred_class and binding these columns with our original testing dataset for comparison. After, we calculate the accuracy of this model which gives us 0.725. Next, we want to understand these results better by creating a visualization."
   ]
  },
  {
   "cell_type": "markdown",
   "id": "e0b5b118-b5aa-4bfc-9d02-dd85211a9aa9",
   "metadata": {},
   "source": [
    "<h3> References </h3>\n",
    "\n"
   ]
  }
 ],
 "metadata": {
  "kernelspec": {
   "display_name": "R",
   "language": "R",
   "name": "ir"
  },
  "language_info": {
   "codemirror_mode": "r",
   "file_extension": ".r",
   "mimetype": "text/x-r-source",
   "name": "R",
   "pygments_lexer": "r",
   "version": "4.3.3"
  }
 },
 "nbformat": 4,
 "nbformat_minor": 5
}
