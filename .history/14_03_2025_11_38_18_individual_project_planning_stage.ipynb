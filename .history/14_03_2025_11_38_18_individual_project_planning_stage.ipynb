{
 "cells": [
  {
   "cell_type": "markdown",
   "id": "d79d678f-e5c3-49b9-8c34-1e1b6ec21658",
   "metadata": {},
   "source": [
    "# Individual Project Planning Stage"
   ]
  },
  {
   "cell_type": "code",
   "execution_count": null,
   "id": "02b16217-a44c-4c5b-bc65-e948d102f5fe",
   "metadata": {},
   "outputs": [],
   "source": [
    "library(tidyverse)\n",
    "library(repr)\n",
    "library(tidymodels)"
   ]
  },
  {
   "cell_type": "code",
   "execution_count": null,
   "id": "3a0b649a-5747-4ee8-b7ad-1719c120d4a7",
   "metadata": {},
   "outputs": [],
   "source": [
    "players_url <- https://raw.githubusercontent.com/meneghettij/individual_planning_stage/refs/heads/main/data/players.csv\n",
    "players_data <- read_(\"data/players.csv\")\n",
    "#players_data\n",
    "\n",
    "#age_range <- players_data |> summarize(min_val = min(Age, na.rm = TRUE),\n",
    "                                     #  max_val = max(Age, na.rm = TRUE))\n",
    "#hours_range <- players_data |> summarize(min_val = min(played_hours, na.rm = TRUE),\n",
    "                                        # max_val = max(played_hours, na.rm = TRUE))"
   ]
  },
  {
   "cell_type": "code",
   "execution_count": null,
   "id": "a518d073-a4ae-41c6-8acc-e5a5f6a2c725",
   "metadata": {},
   "outputs": [],
   "source": [
    "sessions_data <- read_csv(\"data/sessions.csv\")\n",
    "# sessions_data"
   ]
  },
  {
   "cell_type": "markdown",
   "id": "c9bf4b07-44b5-405b-b14d-8315cb3c5c17",
   "metadata": {},
   "source": [
    "Players.csv: 196 observations, 7 variable\n",
    "\n",
    "Experience (categorical):\n",
    "- pro, veteran, etc.\n",
    "- class, mode: characters\n",
    "                                    \n",
    "Subscribe (categorical):\n",
    "- newsletter subscription status\n",
    "- mode: logical (52 \"FALSE\", 144 \"TRUE\")\n",
    "                                   \n",
    "Hashed email (categorical): \n",
    "- encrypted player email \n",
    "- class, mode: characters \n",
    "                                      \n",
    "Hours played (numerical):\n",
    "- 0-223.1 hours\n",
    "- minimum: 0.000, 1st quartile: 0.000, median: 0.100, mean: 5.846, 3rd quartile: 0.600, maximum: 223.100\n",
    "                                    \n",
    "Name (categorical):\n",
    "- class, mode: characters\n",
    "                              \n",
    "Gender (categorical):\n",
    "- male, female, etc.\n",
    "- class, mode: characters \n",
    "                                \n",
    "Age (numerical):\n",
    "- 8-50\n",
    "- minimum: 8.00, 1st quartile: 17.00, median: 19.00, mean: 20.52, 3rd quartile: 22.00, maximum: 50.00, 2 NA's\n",
    "\n",
    "Sessions.csv: 1535 observations, 5 variables\n",
    "\n",
    "Hashed email (categorical): same as above\n",
    "\n",
    "start_time/end_time (numerical):\n",
    "- session start/end\n",
    "- class, mode: characters (1535 observations)\n",
    "\n",
    "original_start_time/original_end_time (numerical):\n",
    "- original session start/original session end\n",
    "- minimum: 1.712e+12, 1st quartile: 1.716e+12, median + mean: 1.719e+12, 3rd quartile: 1.722e+12, maximum: 1.727e+12\n",
    "\n",
    "\n",
    "Issues:\n",
    "- Missing data: understanding target demographic(s) difficult if characteristics/behaviours are affected.\n",
    "- Tidy data and change formatting to apply functions"
   ]
  },
  {
   "cell_type": "markdown",
   "id": "c5abdbe8-30c5-4ca6-b261-f6d274147938",
   "metadata": {},
   "source": [
    "Broad Question 1: \n",
    "\n",
    "Can the age and number of hours played predict the subscription status of a player in the players dataset?\n",
    "Use select() to filter columns of interest (age, played_hours and subscribe). Group_by() and summarize() will perform summary statistics. Arrange() will sort in descending order for trends. Regression will predict subscription status. “Subscribe\" values are categorical, mutate() and as_factor() will convert into factors. fct_recode() will change \"TRUE\" and \"FALSE\" to \"subscribed\" and \"not subscribed\"."
   ]
  },
  {
   "cell_type": "code",
   "execution_count": null,
   "id": "f19e03b4-2d10-4084-a3eb-fc48ada69300",
   "metadata": {},
   "outputs": [],
   "source": [
    "players_wrangled <- players_data |>\n",
    "                        select(Age, subscribe, played_hours) |>\n",
    "                        mutate(played_hours = as.numeric(played_hours)) |>\n",
    "                        mutate(subscribe = as_factor(subscribe)) |>\n",
    "                        mutate(subscribe = fct_recode(subscribe, \"Subscribed\" = \"TRUE\", \"Not Subscribed\" = \"FALSE\"))\n",
    "\n",
    "# players_wrangled\n",
    "\n",
    "mean_values <- players_wrangled |>\n",
    "                summarize(mean_played_hours = mean(played_hours, na.rm = TRUE), mean_age = mean(Age, na.rm = TRUE))\n",
    "mean_values\n",
    "\n",
    "options(repr.plot.width=13, repr.plot.height=8)\n",
    "players_plot <- ggplot(players_wrangled, aes(x = Age, y = played_hours, color = subscribe)) +\n",
    "                    geom_point() +\n",
    "                    labs(x = \"Age of Player (years)\", y = \"Time Played (hours)\", title = \"Number of Hours Played vs. Age of Player in Determining Subscription Status\")\n",
    "players_plot\n",
    "\n",
    "\n",
    "options(repr.plot.width=10, repr.plot.height=6)\n",
    "played_hours_plot <- ggplot(players_wrangled, aes(x = played_hours, fill = subscribe)) +\n",
    "                        geom_histogram(binwidth = 5, color = \"steelblue\") +\n",
    "                        labs(title = \"Bar Plot of Hours Spent Playing Video Game and Subscription Status\", x = \"Time Played (hours)\", y = \"Count\")\n",
    "played_hours_plot\n",
    "\n",
    "options(repr.plot.width=10, repr.plot.height=6)\n",
    "age_plot <- ggplot(players_wrangled, aes(x = Age, fill = subscribe)) +\n",
    "                        geom_histogram(binwidth = 5, color = \"steelblue\") +\n",
    "                        labs(title = \"Bar Plot of Age and Subscription Status\", x = \"Age of Player (years)\", y = \"Count\")\n",
    "age_plot"
   ]
  },
  {
   "cell_type": "markdown",
   "id": "f1d4f877-1a48-42dd-befd-9e8ba50db860",
   "metadata": {},
   "source": [
    "Scatter plot doesn't give a lot of insight due to scale. Some values are significantly higher than others—differences (can be <  0.5 hours) aren't easily determined (axis division/grid should be smaller).\n",
    "\n",
    "Bar plot (played_hours) shows number of players in each bin, filled based on subscription. Which group is most likely to subscribe to a newsletter determined based on hours played. I would manipulate the dataset more so the bar graph is easier to read (filter out values equal to 0 - not helpful for predictions).\n",
    "\n",
    "Bar plot (Age) shows number of players in each bin, filled based on subscription. It's clear and helps determine which age group is most likely to subscribe to a game-related newsletter. I can see how age affects subscription and determine what age group to focus promotion efforts.\n",
    "\n",
    "The prediction is a categorical variable and we are trying to determine the probability of subscription based on explanatory variables, so I’m using linear regression. We would get coefficients to determine influence(s) on predicted outcomes. I’m assuming a linear relationship between variables, explanatory variables being independent of each other, and no outliers. I need to be mindful of underfitting, and preprocessing so outliers don't disproportionately affect outcomes. I will perform linear and k-nn regression and select which will perform better based on precision vs. recall needs. I would split the data (70% training, 30% testing), and perform 5 cross-validations. Accuracy can be tested to determine if the model is good for predicting unknown values."
   ]
  },
  {
   "cell_type": "code",
   "execution_count": null,
   "id": "a029aa2b-752f-414d-aa4d-6a1bf1edf69f",
   "metadata": {},
   "outputs": [],
   "source": []
  }
 ],
 "metadata": {
  "kernelspec": {
   "display_name": "R",
   "language": "R",
   "name": "ir"
  },
  "language_info": {
   "codemirror_mode": "r",
   "file_extension": ".r",
   "mimetype": "text/x-r-source",
   "name": "R",
   "pygments_lexer": "r",
   "version": "4.3.3"
  }
 },
 "nbformat": 4,
 "nbformat_minor": 5
}
