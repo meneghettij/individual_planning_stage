{
 "cells": [
  {
   "cell_type": "markdown",
   "id": "d79d678f-e5c3-49b9-8c34-1e1b6ec21658",
   "metadata": {},
   "source": [
    "# Individual Project Planning Stage"
   ]
  },
  {
   "cell_type": "code",
   "execution_count": null,
   "id": "02b16217-a44c-4c5b-bc65-e948d102f5fe",
   "metadata": {},
   "outputs": [],
   "source": [
    "library(tidyverse)\n",
    "library(repr)\n",
    "library(tidymodels)"
   ]
  },
  {
   "cell_type": "code",
   "execution_count": null,
   "id": "3a0b649a-5747-4ee8-b7ad-1719c120d4a7",
   "metadata": {},
   "outputs": [],
   "source": [
    "players_data <- read_csv(\"data/players.csv\")\n",
    "#players_data\n",
    "\n",
    "#age_range <- players_data |> summarize(min_val = min(Age, na.rm = TRUE),\n",
    "                                     #  max_val = max(Age, na.rm = TRUE))\n",
    "#hours_range <- players_data |> summarize(min_val = min(played_hours, na.rm = TRUE),\n",
    "                                        # max_val = max(played_hours, na.rm = TRUE))"
   ]
  },
  {
   "cell_type": "code",
   "execution_count": null,
   "id": "a518d073-a4ae-41c6-8acc-e5a5f6a2c725",
   "metadata": {},
   "outputs": [],
   "source": [
    "sessions_data <- read_csv(\"data/sessions.csv\")\n",
    "# sessions_data"
   ]
  },
  {
   "cell_type": "markdown",
   "id": "c9bf4b07-44b5-405b-b14d-8315cb3c5c17",
   "metadata": {},
   "source": [
    "Players.csv: 196 observations, 7 variable\n",
    "\n",
    "Experience (categorical):\n",
    "- pro, veteran, amateur, regular, beginner \n",
    "- class and mode: characters\n",
    "                                    \n",
    "Subscribe (categorical):\n",
    "- subscribed to game-related newsletter or not\n",
    "- mode: logical (52 \"FALSE\", 144 \"TRUE\")\n",
    "                                   \n",
    "Hashed email (categorical): \n",
    "- encrypted email of player\n",
    "- class and mode: characters \n",
    "                                      \n",
    "Hours played (numerical):\n",
    "- 0 to 223.1 hours\n",
    "- minimum: 0.000, 1st quartile: 0.000, median: 0.100, mean: 5.846, 3rd quartile: 0.600, maximum: 223.100\n",
    "                                    \n",
    "Name (categorical):\n",
    "- class and mode: characters\n",
    "                              \n",
    "Gender (categorical):\n",
    "- male, female, non-binary, two-spirited, agender, other\n",
    "- class and mode: characters \n",
    "                                \n",
    "Age (numerical):\n",
    "- 8 to 50\n",
    "- minimum: 8.00, 1st quartile: 17.00, median: 19.00, mean: 20.52, 3rd quartile: 22.00, maximum: 50.00, 2 NA's\n",
    "\n",
    "Sessions.csv: 1535 observations, 5 variables\n",
    "\n",
    "Hashed email (categorical):\n",
    "- encrypted email of player\n",
    "- class and mode: characters (1535 observations)\n",
    "\n",
    "start_time (numerical):\n",
    "- start for session\n",
    "- class and mode: characters (1535 observations)\n",
    "\n",
    "end_time (numerical):\n",
    "- end for session\n",
    "- class and mode: characters (1535 observations)\n",
    "\n",
    "original_start_time and original_end_time (numerical):\n",
    "- original start for session / original end for session\n",
    "- minimum: 1.712e+12, 1st quartile: 1.716e+12, median: 1.719e+12, mean: 1.719e+12, 3rd quartile: 1.722e+12, maximum: 1.727e+12\n",
    "\n",
    "\n",
    "Issues:\n",
    "- Missing data may make understanding target demographic(s) difficult if characteristics/behaviours are affected.\n",
    "- Should tidy up data and change formatting of dataset so it's easier to apply functions."
   ]
  },
  {
   "cell_type": "markdown",
   "id": "c5abdbe8-30c5-4ca6-b261-f6d274147938",
   "metadata": {},
   "source": [
    "What player characteristics and behaviours are most predictive of subscribing to a game-related newsletter, and how do these features differ between various player types?\n",
    "\n",
    "Can the age and number of hours played predict the subscription status of a player in the players dataset?\n",
    "\n",
    "The dataset will need to be wrangled. I can filter it to just include the columns of interest (age, played_hours and subscribe) by using select(). The data shows one variable for each column, so I won't use pivot_wider()/pivot_longer(). Group_by() and summarize() will be used to perform summary statistics. To find trends I will use arrange() to sort in descending order. I will use regression to predict subscription status. The values in \"subscribe\" are categorical, so I will use mutate() and as_factor() convert into a factor. I will use fct_recode() to change \"TRUE\" and \"FALSE\" to \"subscribed\" and \"not subscribed\"."
   ]
  },
  {
   "cell_type": "code",
   "execution_count": null,
   "id": "f19e03b4-2d10-4084-a3eb-fc48ada69300",
   "metadata": {},
   "outputs": [],
   "source": [
    "players_wrangled <- players_data |>\n",
    "                        select(Age, subscribe, played_hours) |>\n",
    "                        mutate(played_hours = as.numeric(played_hours)) |>\n",
    "                        mutate(subscribe = as_factor(subscribe)) |>\n",
    "                        mutate(subscribe = fct_recode(subscribe, \"Subscribed\" = \"TRUE\", \"Not Subscribed\" = \"FALSE\"))\n",
    "\n",
    "# players_wrangled\n",
    "\n",
    "mean_values <- players_wrangled |>\n",
    "                summarize(mean_played_hours = mean(played_hours, na.rm = TRUE), mean_age = mean(Age, na.rm = TRUE))\n",
    "mean_values\n",
    "\n",
    "options(repr.plot.width=13, repr.plot.height=8)\n",
    "players_plot <- ggplot(players_wrangled, aes(x = Age, y = played_hours, color = subscribe)) +\n",
    "                    geom_point() +\n",
    "                    labs(x = \"Age of Player (years)\", y = \"Time Played (hours)\", title = \"Number of Hours Played vs. Age of Player in Determining Subscription Status\")\n",
    "players_plot\n",
    "\n",
    "\n",
    "options(repr.plot.width=10, repr.plot.height=6)\n",
    "played_hours_plot <- ggplot(players_wrangled, aes(x = played_hours, fill = subscribe)) +\n",
    "                        geom_histogram(binwidth = 5, color = \"steelblue\") +\n",
    "                        labs(title = \"Bar Plot of Hours Spent Playing Video Game and Subscription Status\", x = \"Time Played (hours)\", y = \"Count\")\n",
    "played_hours_plot\n",
    "\n",
    "options(repr.plot.width=10, repr.plot.height=6)\n",
    "age_plot <- ggplot(players_wrangled, aes(x = Age, fill = subscribe)) +\n",
    "                        geom_histogram(binwidth = 5, color = \"steelblue\") +\n",
    "                        labs(title = \"Bar Plot of Age and Subscription Status\", x = \"Age of Player (years)\", y = \"Count\")\n",
    "age_plot"
   ]
  },
  {
   "cell_type": "markdown",
   "id": "f1d4f877-1a48-42dd-befd-9e8ba50db860",
   "metadata": {},
   "source": [
    "Scatter plot doesn't give a lot of insight due to the scale. There are some values significantly higher than others, so differences (can be less than 0.5 hours) aren't easily determined on this scale (axis division/grid difference should be smaller).\n",
    "\n",
    "Bar plot (played_hours) shows number of players in each bin, filled based on subscription. We can determine which group is most likely to subscribe to a newsletter based on number of hours played. I would manipulate the dataset more in the future so that the bar graph is easier to read—I could filter out any values that are equal to 0 as they wouldn't give data helpful for predictions.\n",
    "\n",
    "Bar plot (Age) shows number of players in each bin, filled based on subscription. It's clear and helps determine which age group is most likely to subscribe to a game-related newsletter. I can see how age affects subscription and determine what age group to focus promotion efforts."
   ]
  },
  {
   "cell_type": "markdown",
   "id": "4d9f3521-0809-42d6-9184-3eeb47678d58",
   "metadata": {},
   "source": [
    "I think the best model would be linear regression. The prediction is a categorical variable and we are trying to determine the probability of subscription based on two explanatory variables. We would also be able to get coefficients that would further help in determining the influence on the predicted outcome. Some of the assumptions I would be making would include assuming there is a linear relationship between the variables, both explanatory variables don't influence each other (independent of each other), and that there aren't outliers in the data that could skew results. Linear regression also has some limitations. Since linear regression is a simpler model, I need to be mindful of underfitting the dataset, preprocessing the data well enough that any extreme outliers don't disproportionately affect my outcomes, and that linearity is important for this model (I may have to change my model to k-nn regression, etc. if the variables don't show a linear relationship).  I will perform a linear regression and k-nn regression (and tune neighbours) and determine the accuracy of both models to select which will perform better based on my needs (whether I would prefer higher precision or recall). I would split the data into 2 sets (training + testing) with a 70% training and 30% testing. I will also use cross-validation to perform at least 5 cross-validations (k = 5) to reduce chances of over/underfitting. Once I have created the model based on my training set, I will then test on my testing set to see the accuracy and determine if the model is good for predicting unknown values."
   ]
  },
  {
   "cell_type": "code",
   "execution_count": null,
   "id": "000dce5f-fd1f-4e07-9eda-b5ac4bb8dec5",
   "metadata": {},
   "outputs": [],
   "source": []
  }
 ],
 "metadata": {
  "kernelspec": {
   "display_name": "R",
   "language": "R",
   "name": "ir"
  },
  "language_info": {
   "codemirror_mode": "r",
   "file_extension": ".r",
   "mimetype": "text/x-r-source",
   "name": "R",
   "pygments_lexer": "r",
   "version": "4.3.3"
  }
 },
 "nbformat": 4,
 "nbformat_minor": 5
}
