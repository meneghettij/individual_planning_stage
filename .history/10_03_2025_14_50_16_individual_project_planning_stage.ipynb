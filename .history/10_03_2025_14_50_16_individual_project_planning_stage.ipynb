{
 "cells": [
  {
   "cell_type": "markdown",
   "id": "d79d678f-e5c3-49b9-8c34-1e1b6ec21658",
   "metadata": {},
   "source": [
    "# Individual Project Planning Stage"
   ]
  },
  {
   "cell_type": "code",
   "execution_count": null,
   "id": "02b16217-a44c-4c5b-bc65-e948d102f5fe",
   "metadata": {},
   "outputs": [],
   "source": [
    "library(tidyverse)\n",
    "library(repr)\n",
    "library(tidymodels)"
   ]
  },
  {
   "cell_type": "code",
   "execution_count": null,
   "id": "3a0b649a-5747-4ee8-b7ad-1719c120d4a7",
   "metadata": {},
   "outputs": [],
   "source": [
    "players_data <- read_csv(\"players.csv\")\n",
    "players_data\n",
    "\n",
    "#age_range <- players_data |> summarize(min_val = min(Age, na.rm = TRUE),\n",
    "                                     #  max_val = max(Age, na.rm = TRUE))\n",
    "#hours_range <- players_data |> summarize(min_val = min(played_hours, na.rm = TRUE),\n",
    "                                        # max_val = max(played_hours, na.rm = TRUE))\n",
    "\n",
    "# summary(players_data)"
   ]
  },
  {
   "cell_type": "code",
   "execution_count": null,
   "id": "a518d073-a4ae-41c6-8acc-e5a5f6a2c725",
   "metadata": {},
   "outputs": [],
   "source": [
    "sessions_data <- read_csv(\"sessions.csv\")\n",
    "sessions_data\n",
    "summary(sessions_data)"
   ]
  },
  {
   "cell_type": "markdown",
   "id": "c9bf4b07-44b5-405b-b14d-8315cb3c5c17",
   "metadata": {},
   "source": [
    "For the first dataset, players.csv, there are 196 observations, with 7 different variables being accounted for. \n",
    "\n",
    "These include:\n",
    "\n",
    "Experience (categorical variable) - whether they are a pro, veteran, amateur, regular or beginner \n",
    "                                    the experience class and mode are characters each with a length of 196 (observations)\n",
    "                                    \n",
    "Subscribe (categorical variable) - whether they are subscribed to a game-related newsletter (true or false)\n",
    "                                   the mode of the subscribe variable is logical with 52 \"FALSE\" and 144 \"TRUE\" answers\n",
    "                                   \n",
    "Hashed email (categorical variable) - the unique encrypted email of each player\n",
    "                                      the class and mode are characters each with a length of 196 (observations)\n",
    "                                      \n",
    "Hours played (numerical variable) - ranges from 0 to 223.1 hours\n",
    "                                    the minimum value is 0.000, 1st quartile is 0.000, median is 0.100, mean is 5.846, 3rd                                       quartile is 0.600 and the maximum value is 223.100 hours played\n",
    "                                    \n",
    "Name (categorical variable) - the name of each player\n",
    "                              the class and mode are both characters with a length of 196 (observations)\n",
    "                              \n",
    "Gender (categorical variable) - male, female, non-binary, two-spirited, agender, other\n",
    "                                the class and mode are both characters with a length of 196 (observations)\n",
    "                                \n",
    "Age (numerica variable) - ranges from 8 to 50 years old\n",
    "                          the minimum value is 8.00, 1st quartile is 17.00, median is 19.00, mean is 20.52, 3rd quartile is                            22.00, maximum value is 50.00 and there are 2 NA's\n",
    "\n",
    "For the second dataset, sessions.csv, there are 1535 observations, with 5 different variables being accounted for.\n",
    "These include:\n",
    "\n",
    "Hashed email (categorical variable) - the unique encrypted email of each player\n",
    "                                      the class and mode are characters each with a length of 1535 (observations)\n",
    "\n",
    "start_time (numerical variable) - the start time for each session by each player\n",
    "                                  the class and mode are both characters each with a length of 1535 (observations)\n",
    "\n",
    "end_time (numerical variable) - the start time for each session by each player\n",
    "                                the class and mode are both characters each with a length of 1535 (observations)\n",
    "\n",
    "original_start_time (numerical variable) - the original start time for each session by each player\n",
    "                                           the minimum value is 1.712e+12, 1st quartile is 1.716e+12, median is 1.719e+12,                                              mean is 1.719e+12, 3rd quartile is 1.722e+12, maximum value is 1.727e+12\n",
    "\n",
    "original_end_time (numerical variable) - the original end time for each session by each player\n",
    "                                         the minimum value is 1.712e+12, 1st quartile is 1.716e+12, median is 1.719e+12,                                              mean is 1.719e+12, 3rd quartile is 1.722e+12, maximum value is 1.727e+12.\n",
    "\n",
    "\n",
    "Potential issues:\n",
    "- the missing data (NA's) may not be very helpful in understanding the target demographic if we are trying to understand the characteristics and behv\n",
    "- "
   ]
  },
  {
   "cell_type": "code",
   "execution_count": null,
   "id": "000b68af-f2cf-481d-9a26-358fbd848a03",
   "metadata": {},
   "outputs": [],
   "source": []
  }
 ],
 "metadata": {
  "kernelspec": {
   "display_name": "R",
   "language": "R",
   "name": "ir"
  },
  "language_info": {
   "codemirror_mode": "r",
   "file_extension": ".r",
   "mimetype": "text/x-r-source",
   "name": "R",
   "pygments_lexer": "r",
   "version": "4.3.3"
  }
 },
 "nbformat": 4,
 "nbformat_minor": 5
}
