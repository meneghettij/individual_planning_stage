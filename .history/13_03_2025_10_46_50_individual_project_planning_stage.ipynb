{
 "cells": [
  {
   "cell_type": "markdown",
   "id": "d79d678f-e5c3-49b9-8c34-1e1b6ec21658",
   "metadata": {},
   "source": [
    "# Individual Project Planning Stage"
   ]
  },
  {
   "cell_type": "code",
   "execution_count": null,
   "id": "02b16217-a44c-4c5b-bc65-e948d102f5fe",
   "metadata": {},
   "outputs": [],
   "source": [
    "library(tidyverse)\n",
    "library(repr)\n",
    "library(tidymodels)"
   ]
  },
  {
   "cell_type": "code",
   "execution_count": null,
   "id": "3a0b649a-5747-4ee8-b7ad-1719c120d4a7",
   "metadata": {},
   "outputs": [],
   "source": [
    "players_data <- read_csv(\"data/players.csv\")\n",
    "players_data\n",
    "\n",
    "#age_range <- players_data |> summarize(min_val = min(Age, na.rm = TRUE),\n",
    "                                     #  max_val = max(Age, na.rm = TRUE))\n",
    "#hours_range <- players_data |> summarize(min_val = min(played_hours, na.rm = TRUE),\n",
    "                                        # max_val = max(played_hours, na.rm = TRUE))"
   ]
  },
  {
   "cell_type": "code",
   "execution_count": null,
   "id": "a518d073-a4ae-41c6-8acc-e5a5f6a2c725",
   "metadata": {},
   "outputs": [],
   "source": [
    "sessions_data <- read_csv(\"data/sessions.csv\")\n",
    "# sessions_data"
   ]
  },
  {
   "cell_type": "markdown",
   "id": "c9bf4b07-44b5-405b-b14d-8315cb3c5c17",
   "metadata": {},
   "source": [
    "For the first dataset, players.csv, there are 196 observations, with 7 different variables being accounted for. \n",
    "\n",
    "These include:\n",
    "\n",
    "Experience (categorical variable):\n",
    "- whether they are a pro, veteran, amateur, regular or beginner \n",
    "- the experience class and mode are characters each with a length of 196 (observations)\n",
    "                                    \n",
    "Subscribe (categorical variable):\n",
    "- whether they are subscribed to a game-related newsletter (true or false)\n",
    "- the mode of the subscribe variable is logical with 52 \"FALSE\" and 144 \"TRUE\" answers\n",
    "                                   \n",
    "Hashed email (categorical variable): \n",
    "- the unique encrypted email of each player\n",
    "- the class and mode are characters each with a length of 196 (observations)\n",
    "                                      \n",
    "Hours played (numerical variable):\n",
    "- ranges from 0 to 223.1 hours\n",
    "- the minimum value is 0.000, 1st quartile is 0.000, median is 0.100, mean is 5.846, 3rd quartile is 0.600 and the maximum value is 223.100 hours played\n",
    "                                    \n",
    "Name (categorical variable):\n",
    "- the name of each player\n",
    "- the class and mode are both characters with a length of 196 (observations)\n",
    "                              \n",
    "Gender (categorical variable):\n",
    "- male, female, non-binary, two-spirited, agender, other\n",
    "- the class and mode are both characters with a length of 196 (observations)\n",
    "                                \n",
    "Age (numerica variable):\n",
    "- ranges from 8 to 50 years old\n",
    "- the minimum value is 8.00, 1st quartile is 17.00, median is 19.00, mean is 20.52, 3rd quartile is 22.00, maximum value is 50.00 and there are 2 NA's\n",
    "\n",
    "For the second dataset, sessions.csv, there are 1535 observations, with 5 different variables being accounted for.\n",
    "These include:\n",
    "\n",
    "Hashed email (categorical variable):\n",
    "- the unique encrypted email of each player\n",
    "- the class and mode are characters each with a length of 1535 (observations)\n",
    "\n",
    "start_time (numerical variable):\n",
    "- the start time for each session by each player\n",
    "- the class and mode are both characters each with a length of 1535 (observations)\n",
    "\n",
    "end_time (numerical variable):\n",
    "- the start time for each session by each player\n",
    "- the class and mode are both characters each with a length of 1535 (observations)\n",
    "\n",
    "original_start_time (numerical variable):\n",
    "- the original start time for each session by each player\n",
    "- the minimum value is 1.712e+12, 1st quartile is 1.716e+12, median is 1.719e+12, mean is 1.719e+12, 3rd quartile is 1.722e+12, maximum value is 1.727e+12\n",
    "\n",
    "original_end_time (numerical variable):\n",
    "- the original end time for each session by each player\n",
    "- the minimum value is 1.712e+12, 1st quartile is 1.716e+12, median is 1.719e+12, mean is 1.719e+12, 3rd quartile is 1.722e+12, maximum value is 1.727e+12.\n",
    "\n",
    "\n",
    "Potential issues:\n",
    "- The missing data (NA's) may not be very helpful in understanding the target demographic if we are trying to understand the characteristics and behaviours that would determine newsletter use and how they differ between players.\n",
    "- By encrypting the email addresses, this could introduce an error when trying to copy the data or manipulate it in any way (the email address doesn't seem too significant that it needs to be used for the analysis).\n",
    "- It may also be easier to tidy up the data and change the formatting of the dataset (tables) so that they will be easier to apply various functions to when needed."
   ]
  },
  {
   "cell_type": "markdown",
   "id": "c5abdbe8-30c5-4ca6-b261-f6d274147938",
   "metadata": {},
   "source": [
    "My project aims to address the question: What player characteristics and behaviours are most predictive of subscribing to a game-related newsletter, and how do these features differ between various player types?\n",
    "\n",
    "Can the age and number of hours played predict the subscription status of a player in the players dataset?\n",
    "\n",
    "In order to address this question, the dataset will need to be wrangled. I don't need all of the variables in the players dataset, so I can filter it to just include the columns of interest; this will be done using the select() function to select the age, played_hours and subscription columns. Since the data shows one variable for each column, I won't use the pivot_wider() or pivot_longer() functions to transform the dataset as it is already in a form where I can start to use the dataset. I will also use the group_by() and summarize() functions to group the columns and perform summary statistics on the dataset. In order to find any trends I will then sort the data in descending order by using the arrange() function. The predictive model I will use will be regression in order to predict the subscription status since the data isn't very linear and the two explanatory variables (age and played_hours) are numeric. Also, since the values in the column \"subscribe\" are categorical, I will use the mutate() and as_factor() functions to convert this into a factor. To make the prediction easier to read, I will use the fct_recode() function to change the TRUE and FALSE values to subscribed and not subscribed so that's what is printed when I go to predict later on."
   ]
  },
  {
   "cell_type": "code",
   "execution_count": null,
   "id": "f19e03b4-2d10-4084-a3eb-fc48ada69300",
   "metadata": {},
   "outputs": [],
   "source": [
    "players_wrangled <- players_data |>\n",
    "                        select(Age, subscribe, played_hours) |>\n",
    "                        mutate(played_hours = as.numeric(played_hours)) |>\n",
    "                        mutate(subscribe = as_factor(subscribe)) |>\n",
    "                        mutate(subscribe = fct_recode(subscribe, \"Subscribed\" = \"TRUE\", \"Not Subscribed\" = \"FALSE\"))\n",
    "\n",
    "# players_wrangled\n",
    "\n",
    "mean_values <- players_wrangled |>\n",
    "                summarize(mean_played_hours = mean(played_hours, na.rm = TRUE), mean_age = mean(Age, na.rm = TRUE))\n",
    "mean_values\n",
    "\n",
    "options(repr.plot.width=13, repr.plot.height=8)\n",
    "players_plot <- ggplot(players_wrangled, aes(x = Age, y = played_hours, color = subscribe)) +\n",
    "                    geom_point() +\n",
    "                    labs(x = \"Age of Player (years)\", y = \"Time Played (hours)\", title = \"Number of Hours Played vs. Age of Player in Determining Subscription Status\")\n",
    "players_plot\n",
    "\n",
    "options(repr.plot.width=10, repr.plot.height=6)\n",
    "\n",
    "played_hours_plot <- ggplot(players_wrangled, aes(x = played_hours, fill = subscribe)) +\n",
    "                        geom_histogram(binwidth = 5, color = \"steelblue\") +\n",
    "                        labs(title = \"Bar Plot of Hours Spent Playing Video Game and Subscription Status\", x = \"Time Played (hours)\", y = \"Count\")\n",
    "played_hours_plot\n",
    "\n",
    "age_plot <- ggplot(players_wrangled, aes(x = Age, fill = subscribe)) +\n",
    "                        geom_histogram(binwidth = 5, color = \"steelblue\") +\n",
    "                        labs(title = \"Bar Plot of Age and Subscription Status\", x = \"Age of Player (years)\", y = \"Count\")\n",
    "age_plot"
   ]
  },
  {
   "cell_type": "markdown",
   "id": "f1d4f877-1a48-42dd-befd-9e8ba50db860",
   "metadata": {},
   "source": [
    "The scatter plot above doesn't give a lot of insight into how player age and time played affect subscription status due to the scale. Since there are some values that are significantly higher than others, it's difficult to determine the time played. Other participants have very small values that differences (can be less than 0.5 hours) aren't easily determined on this scale (each axis division/grid line difference should be a lot smaller; not 25 hours).\n",
    "\n",
    "The bar plot of hours spent playing above shows the number of players in the bin of a certain number of hours played. The fill colour is based on the subscription status and is helpful in understanding how time played correlated to whether or not a player is subscribe. We can determine from this graph overall, which group is most likely to subscribe to a newsletter based on the number of hours they spend playing the video game. However, the more time spent playing, the shorter the bars and the more difficult it is to read the graph. I would manipulate the dataset more in the future so that the bar graph is easier to read. In order to do this, I could filter out any values that are equal to 0 as they wouldn't give us any data that would help in the prediction.\n",
    "\n",
    "The bar plot of Age above shows the number of players in the bin of a certain age and is filled based on subscription status. This plot is quite clear and helps determine which age group is the most likely to subscribe to a game related newsletter. This is helpful in answering the question I have because I can see how age affects subscription status and can determine what age group is the best to focus on promoting newsletters to."
   ]
  },
  {
   "cell_type": "markdown",
   "id": "13158dd3-f109-43e0-a7b3-d59f563ea3f0",
   "metadata": {},
   "source": [
    "How are you going to compare and select the model?\n",
    "How are you going to process the data to apply the model? For example: Are you splitting the data? How? How many splits? What proportions will you use for the splits? At what stage will you split? Will there be a validation set? Will you use cross validation?"
   ]
  },
  {
   "cell_type": "markdown",
   "id": "4d9f3521-0809-42d6-9184-3eeb47678d58",
   "metadata": {},
   "source": [
    "In order to address my question of interest, I think the best model is a linear regression model. The prediction is a categorical variable (subscribed or not subscribed) and we are trying to determine the probability of subscription based on two explanatory variables. We would also be able to get coefficients that would further help in determining the influence on the predicted outcome. Some of the assumptions I would be making would include assuming there is a linear relationship between the variables, both explanatory variables don't influence each other (independent of each other), and that there aren't outliers in the data that could skew results. Linear regression also has some limitations. Since linear regression is a simpler model, I need to be mindful of underfitting the dataset, preprocessing the data well enough that any extreme outliers don't disproportionately affect my outcomes, and that linearity is important for this model (I may have to change my model to k-nn regression, etc. if the variables don't show a linear relationship).  I will perform a linear regression and k-nn regression (and tune neighbours) and determine the accuracy of both models to select which will perform better based on my needs (whether I would prefer higher precision or recall). I would split the data into 2 sets (training + testing) with a 70% training and 30% testing. I will also use c"
   ]
  },
  {
   "cell_type": "code",
   "execution_count": null,
   "id": "000dce5f-fd1f-4e07-9eda-b5ac4bb8dec5",
   "metadata": {},
   "outputs": [],
   "source": []
  }
 ],
 "metadata": {
  "kernelspec": {
   "display_name": "R",
   "language": "R",
   "name": "ir"
  },
  "language_info": {
   "codemirror_mode": "r",
   "file_extension": ".r",
   "mimetype": "text/x-r-source",
   "name": "R",
   "pygments_lexer": "r",
   "version": "4.3.3"
  }
 },
 "nbformat": 4,
 "nbformat_minor": 5
}
